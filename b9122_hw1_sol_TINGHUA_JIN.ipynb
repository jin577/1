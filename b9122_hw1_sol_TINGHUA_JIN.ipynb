{
 "cells": [
  {
   "cell_type": "code",
   "execution_count": 1,
   "metadata": {},
   "outputs": [
    {
     "name": "stdout",
     "output_type": "stream",
     "text": [
      "ieiou\n"
     ]
    }
   ],
   "source": [
    "#Question 1\n",
    "word=(\"aeiou\")\n",
    "print (word.replace(\"a\",\"i\"))"
   ]
  },
  {
   "cell_type": "code",
   "execution_count": 2,
   "metadata": {},
   "outputs": [
    {
     "name": "stdout",
     "output_type": "stream",
     "text": [
      "1*1=1\n",
      "1*2=2\n",
      "1*3=3\n",
      "2*1=2\n",
      "2*2=4\n",
      "2*3=6\n",
      "3*1=3\n",
      "3*2=6\n",
      "3*3=9\n"
     ]
    }
   ],
   "source": [
    "#Question 2\n",
    "def Abc(n):\n",
    "    for i in range(1,1+n):\n",
    "        for j in range(1,1+n):\n",
    "            print(str(i)+\"*\"+str(j)+\"=\"+str(i*j))\n",
    "Abc(3)"
   ]
  },
  {
   "cell_type": "code",
   "execution_count": 3,
   "metadata": {},
   "outputs": [
    {
     "name": "stdout",
     "output_type": "stream",
     "text": [
      "['this', 'is', 'a', 'long', 'sentence']\n",
      "[(1, 'a'), (2, 'is'), (4, 'long'), (4, 'this'), (8, 'sentence')]\n"
     ]
    }
   ],
   "source": [
    "#Question 3\n",
    "def Abc(sentence):\n",
    "    list_=sentence.split(\" \")\n",
    "    print(list_)\n",
    "    list_ordwl=[]\n",
    "    for i in list_:\n",
    "        list_ordwl.append((len(i),i))\n",
    "    ordwl=sorted(list_ordwl)\n",
    "    print(ordwl)\n",
    "sentence = 'this is a long sentence'\n",
    "Abc(sentence)"
   ]
  },
  {
   "cell_type": "code",
   "execution_count": 4,
   "metadata": {},
   "outputs": [
    {
     "name": "stdout",
     "output_type": "stream",
     "text": [
      "6 business\n",
      "5 the\n",
      "5 of\n",
      "4 is\n",
      "4 in\n"
     ]
    }
   ],
   "source": [
    "#Question 4\n",
    "fh=open(\"/Users/grace/Desktop/2018 fall/Computing/question4.txt\")\n",
    "txt=fh.read()\n",
    "list_=txt.lower().split(\" \")\n",
    "dict_={}\n",
    "for i in list_:\n",
    "    if i in dict_:\n",
    "       dict_[i]+=1\n",
    "    else:\n",
    "       dict_[i]=1\n",
    "output=sorted(dict_.items(),key=lambda k:k[1],reverse=True)\n",
    "for i in output[0:5]:\n",
    "    print(str(i[1])+' '+str(i[0]))\n",
    "    "
   ]
  },
  {
   "cell_type": "code",
   "execution_count": 5,
   "metadata": {},
   "outputs": [
    {
     "name": "stdout",
     "output_type": "stream",
     "text": [
      "<_sre.SRE_Match object; span=(0, 10), match='1995-11-02'>\n",
      "<_sre.SRE_Match object; span=(0, 5), match='10025'>\n",
      "<_sre.SRE_Match object; span=(0, 20), match='localpart@domain.com'>\n"
     ]
    }
   ],
   "source": [
    "#Question 5\n",
    "import re\n",
    "a_string=(\"1995-11-02\")\n",
    "dates=re.search('\\d{4}-\\d{2}-\\d{2}',a_string)\n",
    "print(dates)\n",
    "b_string=(\"10025\")\n",
    "zipcode=re.search('\\d{5}|\\d{5}-\\d{4}',b_string)\n",
    "print(zipcode)\n",
    "c_string=(\"localpart@domain.com\")\n",
    "email=re.search('\\w+@\\w+.com',c_string)\n",
    "print(email)"
   ]
  },
  {
   "cell_type": "code",
   "execution_count": 6,
   "metadata": {},
   "outputs": [
    {
     "data": {
      "text/plain": [
       "[1, 3]"
      ]
     },
     "execution_count": 6,
     "metadata": {},
     "output_type": "execute_result"
    }
   ],
   "source": [
    "#Optional Question\n",
    "import numpy as np\n",
    "def compare(a,b):\n",
    "    c = a==b\n",
    "    same_index = np.where(c == True)\n",
    "    return same_index[0].tolist()\n",
    "\n",
    "a = np.array([1,2,3,2])\n",
    "b = np.array([2,2,2,2])\n",
    "compare(a,b)"
   ]
  },
  {
   "cell_type": "code",
   "execution_count": null,
   "metadata": {},
   "outputs": [],
   "source": []
  },
  {
   "cell_type": "code",
   "execution_count": null,
   "metadata": {},
   "outputs": [],
   "source": []
  }
 ],
 "metadata": {
  "kernelspec": {
   "display_name": "Python 3",
   "language": "python",
   "name": "python3"
  },
  "language_info": {
   "codemirror_mode": {
    "name": "ipython",
    "version": 3
   },
   "file_extension": ".py",
   "mimetype": "text/x-python",
   "name": "python",
   "nbconvert_exporter": "python",
   "pygments_lexer": "ipython3",
   "version": "3.6.5"
  }
 },
 "nbformat": 4,
 "nbformat_minor": 2
}
